{
 "cells": [
  {
   "cell_type": "markdown",
   "metadata": {
    "slideshow": {
     "slide_type": "slide"
    }
   },
   "source": [
    "<h1>Python Programming for Data Science Introduction</h1>\n",
    "Weekly Oxford Worldwide (WOW) Course Format solutions\n",
    "\n",
    "<style>\n",
    "div.scrollable {\n",
    "    height: 300px;  /* Adjust this value as needed */\n",
    "    overflow: auto;\n",
    "    border: 1px solid #ccc;  /* Optional: Adds a border */\n",
    "    padding: 10px;           /* Optional: Adds padding inside the box */\n",
    "}\n",
    "</style>"
   ]
  },
  {
   "cell_type": "markdown",
   "metadata": {},
   "source": [
    "**Question 1.2.1.** Change the cell above so that it prints out:"
   ]
  },
  {
   "cell_type": "code",
   "execution_count": 3,
   "metadata": {},
   "outputs": [
    {
     "name": "stdout",
     "output_type": "stream",
     "text": [
      "First this line,\n",
      "then the whole 🌏,\n",
      "and then this one.\n"
     ]
    }
   ],
   "source": [
    "print(\"First this line,\")\n",
    "print(\"then the whole \\N{EARTH GLOBE ASIA-AUSTRALIA},\")\n",
    "print(\"and then this one.\")"
   ]
  },
  {
   "cell_type": "markdown",
   "metadata": {},
   "source": [
    "**Question 1.3.1.** Add a code cell below this one.  Write code in it that prints out:"
   ]
  },
  {
   "cell_type": "code",
   "execution_count": 7,
   "metadata": {},
   "outputs": [
    {
     "name": "stdout",
     "output_type": "stream",
     "text": [
      "A whole new cell! ♪🌏♪,\n"
     ]
    }
   ],
   "source": [
    "print(\"A whole new cell! \\N{EIGHTH NOTE}\\N{EARTH GLOBE ASIA-AUSTRALIA}\\N{EIGHTH NOTE},\")"
   ]
  },
  {
   "cell_type": "markdown",
   "metadata": {},
   "source": [
    "**Question 2.1.1.** Write a Python expression in this next cell that's equal to $5 \\times (3 \\frac{10}{11}) - 50 \\frac{1}{3} + 2^{.5 \\times 22} - \\frac{7}{33}$.  That's five times three and ten elevenths, minus fifty and a third, plus two to the power of half 22, minus 7 33rds.  By \"$3 \\frac{10}{11}$\" we mean $3+\\frac{10}{11}$, not $3 \\times \\frac{10}{11}$.\n",
    "\n",
    "Replace the ellipses (`...`) with your expression.  Try to use parentheses only when necessary.\n",
    "\n",
    "*Hint:* The correct output should start with a familiar number."
   ]
  },
  {
   "cell_type": "code",
   "execution_count": 17,
   "metadata": {},
   "outputs": [
    {
     "data": {
      "text/plain": [
       "2017.0"
      ]
     },
     "execution_count": 17,
     "metadata": {},
     "output_type": "execute_result"
    }
   ],
   "source": [
    "5*(3+(10/11))-(50+(1/3))+2**(0.5*22)-(7/33)"
   ]
  },
  {
   "cell_type": "code",
   "execution_count": 19,
   "metadata": {},
   "outputs": [
    {
     "ename": "NameError",
     "evalue": "name 'eleven' is not defined",
     "output_type": "error",
     "traceback": [
      "\u001b[1;31m---------------------------------------------------------------------------\u001b[0m",
      "\u001b[1;31mNameError\u001b[0m                                 Traceback (most recent call last)",
      "Cell \u001b[1;32mIn[19], line 1\u001b[0m\n\u001b[1;32m----> 1\u001b[0m twelve \u001b[38;5;241m=\u001b[39m eleven \u001b[38;5;241m+\u001b[39m \u001b[38;5;241m1\u001b[39m\n",
      "\u001b[1;31mNameError\u001b[0m: name 'eleven' is not defined"
     ]
    }
   ],
   "source": [
    "twelve = eleven + 1"
   ]
  },
  {
   "cell_type": "markdown",
   "metadata": {},
   "source": [
    "**Question 3.2.** Assign the name `seconds_in_a_decade` to the number of seconds between midnight January 1, 2010 and midnight January 1, 2020.\n",
    "\n",
    "*Hint:* If you're stuck, the next section shows you how to get hints."
   ]
  },
  {
   "cell_type": "code",
   "execution_count": 23,
   "metadata": {},
   "outputs": [
    {
     "name": "stdout",
     "output_type": "stream",
     "text": [
      "315532800\n",
      "315532800.0\n"
     ]
    },
    {
     "data": {
      "text/plain": [
       "315532800"
      ]
     },
     "execution_count": 23,
     "metadata": {},
     "output_type": "execute_result"
    }
   ],
   "source": [
    "# Change the next line so that it computes the number of\n",
    "# seconds in a decade and assigns that number the name\n",
    "# seconds_in_a_decade.\n",
    "seconds_in_a_decade = 60*60*24*365*10 \n",
    "print(seconds_in_a_decade)\n",
    "import datetime\n",
    "seconds_in_a_decade2 = (datetime.datetime(2020,1,1)-datetime.datetime(2010,1,1)).total_seconds()\n",
    "print(seconds_in_a_decade2)\n",
    "# We've put this line in this cell so that it will print\n",
    "# the value you've given to seconds_in_a_decade when you\n",
    "# run it.  You don't need to change this.\n",
    "seconds_in_a_decade"
   ]
  },
  {
   "cell_type": "markdown",
   "metadata": {},
   "source": [
    "**Question 3.3.1.** Complete the code in the next cell to fill in the *data* from the experiment."
   ]
  },
  {
   "cell_type": "code",
   "execution_count": 27,
   "metadata": {},
   "outputs": [],
   "source": [
    "# t, the duration of the fall in the experiment, in seconds.\n",
    "# Fill this in.\n",
    "time = 1.2\n",
    "\n",
    "# The estimated distance the hammer actually fell, in meters.\n",
    "# Fill this in.\n",
    "estimated_distance_m = 1.13"
   ]
  },
  {
   "cell_type": "markdown",
   "metadata": {},
   "source": [
    "**Question 3.3.2.** Now, complete the code in the next cell to compute the difference between the predicted and estimated distances (in meters) that the hammer fell in this experiment.\n",
    "\n",
    "This just means translating the formula above ($\\frac{1}{2}G\\frac{M}{R^2}t^2$) into Python code.  You'll have to replace each variable in the math formula with the name we gave that number in Python code."
   ]
  },
  {
   "cell_type": "code",
   "execution_count": 29,
   "metadata": {},
   "outputs": [
    {
     "data": {
      "text/plain": [
       "0.040223694659304865"
      ]
     },
     "execution_count": 29,
     "metadata": {},
     "output_type": "execute_result"
    }
   ],
   "source": [
    "# First, we've written down the values of the 3 universal\n",
    "# constants that show up in Newton's formula.\n",
    "\n",
    "# G, the universal constant measuring the strength of gravity.\n",
    "gravity_constant = 6.674 * 10**-11\n",
    "\n",
    "# M, the moon's mass, in kilograms.\n",
    "moon_mass_kg = 7.34767309 * 10**22\n",
    "\n",
    "# R, the radius of the moon, in meters.\n",
    "moon_radius_m = 1.737 * 10**6\n",
    "\n",
    "# The distance the hammer should have fallen over the\n",
    "# duration of the fall, in meters, according to Newton's\n",
    "# law of gravity.  The text above describes the formula\n",
    "# for this distance given by Newton's law.\n",
    "# **YOU FILL THIS PART IN.**\n",
    "predicted_distance_m = (1/2) * gravity_constant * (moon_mass_kg / (moon_radius_m ** 2)) * (time**2)\n",
    "\n",
    "# Here we've computed the difference between the predicted\n",
    "# fall distance and the distance we actually measured.\n",
    "# If you've filled in the above code, this should just work.\n",
    "difference = predicted_distance_m - estimated_distance_m\n",
    "difference"
   ]
  },
  {
   "cell_type": "markdown",
   "metadata": {},
   "source": [
    "**Question 4.1.1.** Finish the line `num_avenues_away = ...` in the next cell so that the cell calculates the distance Chunhua must walk and gives it the name `manhattan_distance`.  Everything else has been filled in for you.  **Use the `abs` function.**"
   ]
  },
  {
   "cell_type": "code",
   "execution_count": 31,
   "metadata": {},
   "outputs": [
    {
     "data": {
      "text/plain": [
       "1462"
      ]
     },
     "execution_count": 31,
     "metadata": {},
     "output_type": "execute_result"
    }
   ],
   "source": [
    "# Here's the number of streets away:\n",
    "num_streets_away = abs(42-34)\n",
    "\n",
    "# Compute the number of avenues away in a similar way:\n",
    "num_avenues_away = abs(7-10)\n",
    "\n",
    "street_length_m = 80\n",
    "avenue_length_m = 274\n",
    "\n",
    "# Now we compute the total distance Chunhua must walk.\n",
    "manhattan_distance = street_length_m*num_streets_away + avenue_length_m*num_avenues_away\n",
    "\n",
    "# We've included this line so that you see the distance\n",
    "# you've computed when you run this cell.  You don't need\n",
    "# to change it, but you can if you want.\n",
    "manhattan_distance"
   ]
  },
  {
   "cell_type": "markdown",
   "metadata": {},
   "source": [
    "**Question 5.1.** Say that Botan's height is 1.85 meters.  In the next cell, use `abs` to compute the absolute value of the difference between Botan's height and the average human height.  Give that value the name `botan_distance_from_average_m`.\n"
   ]
  },
  {
   "cell_type": "code",
   "execution_count": 33,
   "metadata": {},
   "outputs": [
    {
     "data": {
      "text/plain": [
       "0.16200000000000014"
      ]
     },
     "execution_count": 33,
     "metadata": {},
     "output_type": "execute_result"
    }
   ],
   "source": [
    "# Replace the ... with an expression to compute the absolute\n",
    "# value of the difference between Botan's height (1.85m) and\n",
    "# the average human height.\n",
    "botan_distance_from_average_m = abs(1.85 - 1.688)\n",
    "\n",
    "# Again, we've written this here so that the distance you\n",
    "# compute will get printed when you run this cell.\n",
    "botan_distance_from_average_m"
   ]
  },
  {
   "cell_type": "markdown",
   "metadata": {},
   "source": [
    "Ok, your turn. \n",
    "\n",
    "**Question 5.1.1.** Given the heights of the [Splash Triplets](https://en.wikipedia.org/wiki/Splash_Brothers) from the Golden State Warriors, write an expression that computes the smallest difference between any of the three heights. Your expression shouldn't have any numbers in it, only function calls and the names `clay`, `steph`, and `kevin`. Give the value of your expression the name `min_height_difference`."
   ]
  },
  {
   "cell_type": "code",
   "execution_count": 35,
   "metadata": {},
   "outputs": [
    {
     "name": "stdout",
     "output_type": "stream",
     "text": [
      "0.050000000000000266\n"
     ]
    }
   ],
   "source": [
    "# The three players' heights, in meters:\n",
    "clay =  2.01 # Clay Thompson is 6'7\"\n",
    "steph = 1.91 # Steph Curry is 6'3\"\n",
    "kevin = 2.06 # Kevin Durant is officially 6'9\", but many suspect that he is taller.\n",
    "             # (Further complicating matters, membership of the \"Splash Triplets\" \n",
    "             #  is disputed, since it was originally used in reference to \n",
    "             #  Clay Thompson, Steph Curry, and Draymond Green.)\n",
    "\n",
    "# We'd like to look at all 3 pairs of heights, compute the absolute\n",
    "# difference between each pair, and then find the smallest of those\n",
    "# 3 absolute differences.  This is left to you!  If you're stuck,\n",
    "# try computing the value for each step of the process (like the\n",
    "# difference between Clay's heigh and Steph's height) on a separate\n",
    "# line and giving it a name (like clay_steph_height_diff).\n",
    "min_height_difference = min(abs(clay - steph), abs(clay - kevin), abs(steph - kevin))\n",
    "print(min_height_difference)"
   ]
  },
  {
   "cell_type": "markdown",
   "metadata": {},
   "source": [
    "## 6. If statement and Functions\n",
    "\n",
    "### 6.1 Write a function that takes a string as an input and returns:\n",
    "* the string 'too short' if the string contains less than 10 characters\n",
    "* the string 'just right' if the string contains between 10 and 15 characters\n",
    "* the string 'way too long' if the string contains more than 15 characters"
   ]
  },
  {
   "cell_type": "code",
   "execution_count": 64,
   "metadata": {},
   "outputs": [
    {
     "name": "stdout",
     "output_type": "stream",
     "text": [
      "just right\n"
     ]
    }
   ],
   "source": [
    "# Write your solution here:\n",
    "def check_string_length(s):\n",
    "    \"\"\"\n",
    "    Returns a message based on the length of the input string.\n",
    "    \n",
    "    Parameters:\n",
    "    s (str): The input string\n",
    "    \n",
    "    Returns:\n",
    "    str: 'too short', 'just right', or 'way too long'\n",
    "    \"\"\"\n",
    "    length = len(s)\n",
    "    if length < 10:\n",
    "        return 'too short'\n",
    "    elif 10 <= length <= 15:\n",
    "        return 'just right'\n",
    "    else:\n",
    "        return 'way too long'\n",
    "\n",
    "\n",
    "print(check_string_length(\"hello world\"))    # Output: just right\n",
    "\n"
   ]
  },
  {
   "cell_type": "markdown",
   "metadata": {},
   "source": [
    "### 6.2 Write a Python program to check whether a letter of the Latin/English alphabet is a vowel or consonant.\n",
    "\n",
    "Expected output:\n",
    "```\n",
    "Input a letter of the alphabet: r\n",
    "r is a consonant.\n",
    "```\n",
    "or\n",
    "```\n",
    "Input a letter of the alphabet: a\n",
    "a is a vowel.\n",
    "```"
   ]
  },
  {
   "cell_type": "code",
   "execution_count": 66,
   "metadata": {},
   "outputs": [
    {
     "name": "stdin",
     "output_type": "stream",
     "text": [
      "Input a letter of the alphabet:  a\n"
     ]
    },
    {
     "name": "stdout",
     "output_type": "stream",
     "text": [
      "vowel\n"
     ]
    }
   ],
   "source": [
    "# the `input` function will create an interactive text input field for you to submit a letter\n",
    "l = input(\"Input a letter of the alphabet: \")\n",
    "# Write your solution here:\n",
    "def check_vowel_or_consonant(letter):\n",
    "    \"\"\"\n",
    "    Determines if a given letter is a vowel or consonant.\n",
    "    \n",
    "    Parameters:\n",
    "    letter (str): A single character\n",
    "    \n",
    "    Returns:\n",
    "    str: 'vowel', 'consonant', or 'not a letter'\n",
    "    \"\"\"\n",
    "    # Ensure input is a single character and an English alphabet letter\n",
    "    if len(letter) != 1 or not letter.isalpha():\n",
    "        return 'not a letter'\n",
    "    # Convert to lowercase for comparison\n",
    "    if letter.lower() in 'aeiou':\n",
    "        return 'vowel'\n",
    "    else:\n",
    "        return 'consonant'\n",
    "\n",
    "print(check_vowel_or_consonant(l))    "
   ]
  },
  {
   "cell_type": "markdown",
   "metadata": {},
   "source": [
    "### Additional Exercises:"
   ]
  },
  {
   "cell_type": "markdown",
   "metadata": {},
   "source": [
    "### Exercise 7:\n",
    "Write a program that uses a loop to efficiently print the \"seven times multiplication table\". The output on screen should resemble the following: \n",
    "<p>\n",
    "1 x 7 = 7 <br>\n",
    "2 x 7 = 14 <br>\n",
    "3 x 7 = 21 <br>\n",
    "4 x 7 = 28 <br>\n",
    "5 x 7 = 35 <br>\n",
    "6 x 7 = 42 <br>\n",
    "7 x 7 = 49 <br>\n",
    "8 x 7 = 56 <br>\n",
    "9 x 7 = 63 <br>\n",
    "10 x 7 = 70 <br>\n",
    "11 x 7 = 77 <br>\n",
    "12 x 7 = 84 <br>\n",
    "</p>\n",
    "\n",
    "Extension: Can you write this so that any 'times table' can be generated from the number that a user enters."
   ]
  },
  {
   "cell_type": "code",
   "execution_count": 45,
   "metadata": {},
   "outputs": [
    {
     "name": "stdin",
     "output_type": "stream",
     "text": [
      "select a times table:  7\n"
     ]
    },
    {
     "name": "stdout",
     "output_type": "stream",
     "text": [
      "7 x 1 = 7\n",
      "7 x 2 = 14\n",
      "7 x 3 = 21\n",
      "7 x 4 = 28\n",
      "7 x 5 = 35\n",
      "7 x 6 = 42\n",
      "7 x 7 = 49\n",
      "7 x 8 = 56\n",
      "7 x 9 = 63\n",
      "7 x 10 = 70\n",
      "7 x 11 = 77\n",
      "7 x 12 = 84\n"
     ]
    }
   ],
   "source": [
    "\n",
    "t = int(input(\"select a times table: \"))\n",
    "\n",
    "for i in range(1, 13):\n",
    "    print(f\"{t} x {i} = {t * i}\")\n"
   ]
  },
  {
   "cell_type": "markdown",
   "metadata": {},
   "source": [
    "### Exercise 8:\n",
    "Write a program that enables a student to enter a letter grade (A, B, C, D, E or F), then convert that to a university undergraduate classification (1st, 2:1, 2:2, 3rd, ordinary, fail).\n",
    "\n",
    "Extension 1: What happens if the user types in a lowercase letter? Does this affect the program? If so, how would you change the script?\n",
    "\n",
    "Extension 2: Can you place this conditional logic that converts grades to classifications in a function? Don't forget to call this function!"
   ]
  },
  {
   "cell_type": "code",
   "execution_count": 53,
   "metadata": {},
   "outputs": [
    {
     "name": "stdin",
     "output_type": "stream",
     "text": [
      "Enter your letter grade (A, B, C, D, E or F):  a\n"
     ]
    },
    {
     "name": "stdout",
     "output_type": "stream",
     "text": [
      "Your classification is: 1st\n"
     ]
    }
   ],
   "source": [
    "def grade_to_classification(letter_grade):\n",
    "    \"\"\"\n",
    "    Convert letter grade to UK undergraduate classification.\n",
    "    \"\"\"\n",
    "    grade_map = {\n",
    "        'A': '1st',\n",
    "        'B': '2:1',\n",
    "        'C': '2:2',\n",
    "        'D': '3rd',\n",
    "        'E': 'ordinary',\n",
    "        'F': 'fail'\n",
    "    }\n",
    "    letter = letter_grade.strip().upper()\n",
    "    return grade_map.get(letter, 'Invalid grade')\n",
    "\n",
    "# Get user input\n",
    "user_input = input(\"Enter your letter grade (A, B, C, D, E or F): \")\n",
    "classification = grade_to_classification(user_input)\n",
    "\n",
    "print(f\"Your classification is: {classification}\")"
   ]
  },
  {
   "cell_type": "markdown",
   "metadata": {},
   "source": [
    "### Exercise 9: \n",
    "Write a new program that asks the user to enter an exam mark (0-100). Write conditional statements to print out the grade they would achieve from this mark.\n",
    "\n",
    "Extension 1: Also define this logic as a function 'convert_mark_to_grade'\n",
    "\n",
    "Extension 2: Furthermore, also call the 'convert_grade_to_classification' function defined previously. The user should be able to enter a single mark, which is then converted to a grade, which in turn is then converted to a degree classification."
   ]
  },
  {
   "cell_type": "code",
   "execution_count": 56,
   "metadata": {},
   "outputs": [
    {
     "name": "stdin",
     "output_type": "stream",
     "text": [
      "Enter your exam mark (0-100):  88\n"
     ]
    },
    {
     "name": "stdout",
     "output_type": "stream",
     "text": [
      "Your grade is: A\n",
      "Your classification is: 1st\n"
     ]
    }
   ],
   "source": [
    "def mark_to_grade(mark):\n",
    "    \"\"\"\n",
    "    Convert exam mark to letter grade.\n",
    "    Assumes mark is an integer between 0 and 100.\n",
    "    \"\"\"\n",
    "    if mark < 0 or mark > 100:\n",
    "        return \"Invalid mark\"\n",
    "    elif mark >= 70:\n",
    "        return \"A\"\n",
    "    elif mark >= 60:\n",
    "        return \"B\"\n",
    "    elif mark >= 50:\n",
    "        return \"C\"\n",
    "    elif mark >= 40:\n",
    "        return \"D\"\n",
    "    elif mark >= 35:\n",
    "        return \"E\"\n",
    "    else:\n",
    "        return \"F\"\n",
    "\n",
    "\n",
    "user_input = int(input(\"Enter your exam mark (0-100): \"))\n",
    "grade = mark_to_grade(user_input)\n",
    "print(f\"Your grade is: {grade}\")\n",
    "print(f\"Your classification is: {grade_to_classification(grade)}\")\n",
    "    "
   ]
  },
  {
   "cell_type": "markdown",
   "metadata": {},
   "source": [
    "### Exercise 10: \n",
    "Write a guessing game program in Python. The game should randomly assign a number between 1 and 100 to a variable (without the user knowing the selected number) each time the game is run. The user must then guess the number selected and should be guided by whether their guess is greater or less than the randomly chosen number. The program should record how many guess attempts it takes to correctly identify the number. \n"
   ]
  },
  {
   "cell_type": "code",
   "execution_count": 60,
   "metadata": {},
   "outputs": [
    {
     "name": "stdout",
     "output_type": "stream",
     "text": [
      "Welcome to the Guessing Game!\n",
      "I'm thinking of a number between 1 and 100.\n"
     ]
    },
    {
     "name": "stderr",
     "output_type": "stream",
     "text": [
      "\n",
      "KeyboardInterrupt\n",
      "\n"
     ]
    },
    {
     "name": "stdin",
     "output_type": "stream",
     "text": [
      "Enter your guess:  40\n"
     ]
    }
   ],
   "source": [
    "# Start by checking that the code provided outputs random numbers between 1 and 100\n",
    "\n",
    "import random\n",
    "target = 0\n",
    "target = random.uniform(1, 100)\n",
    "target = int(target)\n",
    "\n",
    "#print(target) # Don't forget to comment this print statement when the game starts!\n",
    "\n",
    "# Code your solution here\n",
    "def guessing_game(number_to_guess):\n",
    "    attempts = 0\n",
    "    print(\"Welcome to the Guessing Game!\")\n",
    "    print(\"I'm thinking of a number between 1 and 100.\")\n",
    "\n",
    "    while True:\n",
    "        try:\n",
    "            guess = int(input(\"Enter your guess: \"))\n",
    "            attempts += 1\n",
    "\n",
    "            if guess < 1 or guess > 100:\n",
    "                print(\"Please guess a number between 1 and 100.\")\n",
    "                continue\n",
    "\n",
    "            if guess < number_to_guess:\n",
    "                print(\"Too low! Try again.\")\n",
    "            elif guess > number_to_guess:\n",
    "                print(\"Too high! Try again.\")\n",
    "            else:\n",
    "                print(f\"Congratulations! You guessed the number {number_to_guess} in {attempts} attempts.\")\n",
    "                break\n",
    "        except ValueError:\n",
    "            print(\"Please enter a valid integer.\")\n",
    "\n",
    "# Run the game\n",
    "guessing_game(target)\n"
   ]
  },
  {
   "cell_type": "markdown",
   "metadata": {},
   "source": [
    "Congratulations, you're done with Exercise 2! Remember to save the notebook appending your name.  "
   ]
  }
 ],
 "metadata": {
  "celltoolbar": "Slideshow",
  "kernelspec": {
   "display_name": "Python [conda env:base] *",
   "language": "python",
   "name": "conda-base-py"
  },
  "language_info": {
   "codemirror_mode": {
    "name": "ipython",
    "version": 3
   },
   "file_extension": ".py",
   "mimetype": "text/x-python",
   "name": "python",
   "nbconvert_exporter": "python",
   "pygments_lexer": "ipython3",
   "version": "3.11.4"
  }
 },
 "nbformat": 4,
 "nbformat_minor": 4
}
